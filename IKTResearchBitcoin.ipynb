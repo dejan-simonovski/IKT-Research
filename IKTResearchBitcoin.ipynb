{
  "nbformat": 4,
  "nbformat_minor": 0,
  "metadata": {
    "colab": {
      "provenance": []
    },
    "kernelspec": {
      "name": "python3",
      "display_name": "Python 3"
    },
    "language_info": {
      "name": "python"
    }
  },
  "cells": [
    {
      "cell_type": "markdown",
      "source": [
        "# Crypto trading strategies\n",
        "Crypto Investment Strategies\n",
        "\n",
        " *  HODLing (Buy and Hold):\n",
        "\n",
        "      Buying cryptocurrency and holding it long-term, regardless of market fluctuations.\n",
        "      This strategy is based on the belief that the asset's value will increase over time.\n",
        "      Best suited for long-term investors with strong conviction in a project's future.\n",
        "\n",
        " *  Dollar-Cost Averaging (DCA):\n",
        "\n",
        "      Investing a fixed amount at regular intervals (e.g., weekly or monthly) regardless of price.\n",
        "      This reduces the impact of market volatility and avoids emotional decision-making.\n",
        "\n",
        " *  Swing Trading:\n",
        "\n",
        "      Buying low and selling high over short-to-medium time frames\n",
        "      based on market trends and technical analysis.\n",
        "      This requires active monitoring and some experience with charts and indicators.\n",
        "\n",
        " *  Day Trading:\n",
        "\n",
        "      Buying and selling crypto assets within the same day to profit from short-term price movements.\n",
        "      It’s fast-paced, risky, and requires strong technical analysis skills and emotional discipline.\n",
        "\n",
        " *  Staking / Yield Farming:\n",
        "\n",
        "      Locking up crypto assets to earn rewards or interest.\n",
        "      Staking usually involves securing a blockchain network (like Ethereum 2.0),\n",
        "      while yield farming involves lending or providing liquidity in DeFi platforms.\n",
        "      Offers passive income, but carries risks like platform vulnerabilities or token devaluation.\n",
        "\n",
        " *  Diversification:\n",
        "\n",
        "      Spreading investments across multiple cryptocurrencies to reduce overall risk.\n",
        "      If one asset performs poorly, others might offset the loss.\n",
        "\n",
        " *  ICO/IDO Investing (Early Stage Projects):\n",
        "\n",
        "      Investing in new projects during their Initial Coin Offering (ICO) or Initial DEX Offering (IDO).\n",
        "      High risk, but potentially high reward. Careful research is essential to avoid scams.\n",
        "\n",
        " *  Arbitrage:\n",
        "\n",
        "      Taking advantage of price differences across different exchanges by buying low on one and selling high on another.\n",
        "      Requires speed and low transaction fees to be profitable."
      ],
      "metadata": {
        "id": "A_PbnIZO_htX"
      }
    },
    {
      "cell_type": "markdown",
      "source": [],
      "metadata": {
        "id": "GttsUHw4_qvQ"
      }
    },
    {
      "cell_type": "code",
      "execution_count": 1,
      "metadata": {
        "colab": {
          "base_uri": "https://localhost:8080/"
        },
        "id": "yrt3HYdjKa4d",
        "outputId": "89c85dc4-f3fb-463a-8e2d-0ce387f9c7ce"
      },
      "outputs": [
        {
          "output_type": "stream",
          "name": "stderr",
          "text": [
            "<ipython-input-1-aa0332f8ad56>:8: DeprecationWarning: load_dataset is deprecated and will be removed in a future version.\n",
            "  df = kagglehub.load_dataset(\n"
          ]
        },
        {
          "output_type": "stream",
          "name": "stdout",
          "text": [
            "Downloading from https://www.kaggle.com/api/v1/datasets/download/novandraanugrah/bitcoin-historical-datasets-2018-2024?dataset_version_number=142&file_name=btc_1d_data_2018_to_2025.csv...\n"
          ]
        },
        {
          "output_type": "stream",
          "name": "stderr",
          "text": [
            "100%|██████████| 368k/368k [00:00<00:00, 1.75MB/s]\n"
          ]
        }
      ],
      "source": [
        "import kagglehub\n",
        "from kagglehub import KaggleDatasetAdapter\n",
        "\n",
        "# Set the path to the file you'd like to load\n",
        "# We chose the 1d interval update period\n",
        "file_path = \"btc_1d_data_2018_to_2025.csv\"\n",
        "\n",
        "df = kagglehub.load_dataset(\n",
        "  KaggleDatasetAdapter.PANDAS,\n",
        "  \"novandraanugrah/bitcoin-historical-datasets-2018-2024\",\n",
        "  file_path,\n",
        "  # documenation for more information:\n",
        "  # https://github.com/Kaggle/kagglehub/blob/main/README.md#kaggledatasetadapterpandas\n",
        ")"
      ]
    },
    {
      "cell_type": "code",
      "source": [
        "print(\"First 5 records:\", df.head())"
      ],
      "metadata": {
        "colab": {
          "base_uri": "https://localhost:8080/"
        },
        "id": "Wrn8DNccLM3Y",
        "outputId": "08e16402-0fa6-450e-ab70-d004ab6c73fa"
      },
      "execution_count": 2,
      "outputs": [
        {
          "output_type": "stream",
          "name": "stdout",
          "text": [
            "First 5 records:     Open time      Open      High       Low     Close        Volume  \\\n",
            "0  2018-01-01  13715.65  13818.55  12750.00  13380.00   8609.915844   \n",
            "1  2018-01-02  13382.16  15473.49  12890.02  14675.11  20078.092111   \n",
            "2  2018-01-03  14690.00  15307.56  14150.00  14919.51  15905.667639   \n",
            "3  2018-01-04  14919.51  15280.00  13918.04  15059.54  21329.649574   \n",
            "4  2018-01-05  15059.56  17176.24  14600.00  16960.39  23251.491125   \n",
            "\n",
            "                Close time  Quote asset volume  Number of trades  \\\n",
            "0  2018-01-01 23:59:59.999        1.147997e+08            105595   \n",
            "1  2018-01-02 23:59:59.999        2.797171e+08            177728   \n",
            "2  2018-01-03 23:59:59.999        2.361169e+08            162787   \n",
            "3  2018-01-04 23:59:59.999        3.127816e+08            170310   \n",
            "4  2018-01-05 23:59:59.999        3.693220e+08            192969   \n",
            "\n",
            "   Taker buy base asset volume  Taker buy quote asset volume  Ignore  \n",
            "0                  3961.938946                  5.280975e+07       0  \n",
            "1                 11346.326739                  1.580801e+08       0  \n",
            "2                  8994.953566                  1.335873e+08       0  \n",
            "3                 12680.812951                  1.861168e+08       0  \n",
            "4                 13346.622293                  2.118299e+08       0  \n"
          ]
        }
      ]
    },
    {
      "cell_type": "code",
      "source": [
        "import pandas as pd"
      ],
      "metadata": {
        "id": "axhw7hR5MCSX"
      },
      "execution_count": 3,
      "outputs": []
    },
    {
      "cell_type": "code",
      "source": [
        "df['Open time'] = pd.to_datetime(df['Open time'])\n",
        "df.set_index('Open time', inplace=True)\n",
        "df['Close time'] = pd.to_datetime(df['Close time'])"
      ],
      "metadata": {
        "id": "34NsxkEFLZf3"
      },
      "execution_count": 4,
      "outputs": []
    },
    {
      "cell_type": "code",
      "source": [
        "features_to_transform = ['Open', 'High', 'Low', 'Close', 'Volume']\n",
        "num_lags = 5\n",
        "rolling_window = 3"
      ],
      "metadata": {
        "id": "MR2qp5zuMEPy"
      },
      "execution_count": 5,
      "outputs": []
    },
    {
      "cell_type": "code",
      "source": [
        "for feature in features_to_transform:\n",
        "    for lag in range(1, num_lags + 1):\n",
        "        df[f'{feature}_lag_{lag}'] = df[feature].shift(lag)"
      ],
      "metadata": {
        "id": "tUU2rk1lMQAW"
      },
      "execution_count": 6,
      "outputs": []
    },
    {
      "cell_type": "code",
      "source": [
        "df[f'{feature}_rolling_mean_{rolling_window}'] = df[feature].rolling(window=rolling_window).mean()"
      ],
      "metadata": {
        "id": "ADBf1jkqMStP"
      },
      "execution_count": 7,
      "outputs": []
    },
    {
      "cell_type": "code",
      "source": [
        "df[f'{feature}_rolling_std_{rolling_window}'] = df[feature].rolling(window=rolling_window).std()"
      ],
      "metadata": {
        "id": "o2RvY45iPvmd"
      },
      "execution_count": 8,
      "outputs": []
    },
    {
      "cell_type": "code",
      "source": [
        "!pip install ta"
      ],
      "metadata": {
        "colab": {
          "base_uri": "https://localhost:8080/"
        },
        "id": "6qayzTBgMlLZ",
        "outputId": "1899fbdc-6f9c-4424-9a82-d5abb4f612f8"
      },
      "execution_count": 9,
      "outputs": [
        {
          "output_type": "stream",
          "name": "stdout",
          "text": [
            "Collecting ta\n",
            "  Downloading ta-0.11.0.tar.gz (25 kB)\n",
            "  Preparing metadata (setup.py) ... \u001b[?25l\u001b[?25hdone\n",
            "Requirement already satisfied: numpy in /usr/local/lib/python3.11/dist-packages (from ta) (2.0.2)\n",
            "Requirement already satisfied: pandas in /usr/local/lib/python3.11/dist-packages (from ta) (2.2.2)\n",
            "Requirement already satisfied: python-dateutil>=2.8.2 in /usr/local/lib/python3.11/dist-packages (from pandas->ta) (2.9.0.post0)\n",
            "Requirement already satisfied: pytz>=2020.1 in /usr/local/lib/python3.11/dist-packages (from pandas->ta) (2025.2)\n",
            "Requirement already satisfied: tzdata>=2022.7 in /usr/local/lib/python3.11/dist-packages (from pandas->ta) (2025.2)\n",
            "Requirement already satisfied: six>=1.5 in /usr/local/lib/python3.11/dist-packages (from python-dateutil>=2.8.2->pandas->ta) (1.17.0)\n",
            "Building wheels for collected packages: ta\n",
            "  Building wheel for ta (setup.py) ... \u001b[?25l\u001b[?25hdone\n",
            "  Created wheel for ta: filename=ta-0.11.0-py3-none-any.whl size=29412 sha256=299adeab36df3dba3a9c9d2da96bf001d8ec8385e2bb7dcbb63b2053bc4e971d\n",
            "  Stored in directory: /root/.cache/pip/wheels/a1/d7/29/7781cc5eb9a3659d032d7d15bdd0f49d07d2b24fec29f44bc4\n",
            "Successfully built ta\n",
            "Installing collected packages: ta\n",
            "Successfully installed ta-0.11.0\n"
          ]
        }
      ]
    },
    {
      "cell_type": "code",
      "source": [
        "import ta"
      ],
      "metadata": {
        "id": "3pg8PIonMVOA"
      },
      "execution_count": 10,
      "outputs": []
    },
    {
      "cell_type": "code",
      "source": [
        "df['rsi'] = ta.momentum.RSIIndicator(df['Close']).rsi()\n",
        "df['macd'] = ta.trend.MACD(df['Close']).macd()\n",
        "df['ema_12'] = ta.trend.EMAIndicator(df['Close'], window=12).ema_indicator()\n",
        "df['ema_26'] = ta.trend.EMAIndicator(df['Close'], window=26).ema_indicator()"
      ],
      "metadata": {
        "id": "D_hCOSkpMVH9"
      },
      "execution_count": 11,
      "outputs": []
    },
    {
      "cell_type": "code",
      "source": [
        "future_shift = 1  # predict 1 day ahead\n",
        "df['future_close'] = df['Close'].shift(-future_shift)"
      ],
      "metadata": {
        "id": "br602TnLMtnB"
      },
      "execution_count": 12,
      "outputs": []
    },
    {
      "cell_type": "code",
      "source": [
        "import numpy as np"
      ],
      "metadata": {
        "id": "yl3CJrOiqY1J"
      },
      "execution_count": 13,
      "outputs": []
    },
    {
      "cell_type": "code",
      "source": [
        "# df['target'] = np.where(df['future_close'] > df['Close'] * 1.01, 2,\n",
        "#                         np.where(df['future_close'] < df['Close'] * 0.95, 1, 0)) # 10 percent increase / 5 decrease"
      ],
      "metadata": {
        "id": "x84IqjamCCXW"
      },
      "execution_count": 14,
      "outputs": []
    },
    {
      "cell_type": "code",
      "source": [
        "strategy = 3  # Change this to test different strategies (1 to 8)\n",
        "\n",
        "if strategy == 1:  # HODLing\n",
        "    df['target'] = np.where(df['future_close'] < df['Close'] * 0.7, 2,  # Buy if it dropped 30%\n",
        "                     np.where(df['future_close'] > df['Close'] * 1.7, 1, 0))  # Sell if we have 70% increase\n",
        "\n",
        "elif strategy == 2:  # Dollar-Cost Averaging (DCA)\n",
        "    df['target'] = 2  # Always Buy\n",
        "\n",
        "elif strategy == 3:  # Swing Trading\n",
        "    # Buy if future gain >10%, Sell if expected drop >10%\n",
        "    df['target'] = np.where(df['future_close'] > df['Close'] * 1.10, 2,\n",
        "                     np.where(df['future_close'] < df['Close'] * 0.90, 1, 0))\n",
        "\n",
        "elif strategy == 4:  # Day Trading\n",
        "    # Buy/Sell on small moves (+3%, -3%)\n",
        "    df['target'] = np.where(df['future_close'] > df['Close'] * 1.03, 2,\n",
        "                     np.where(df['future_close'] < df['Close'] * 0.97, 1, 0))\n",
        "\n",
        "elif strategy == 5:  # Staking / Yield Farming\n",
        "    # Buy low-volatility coins, Sell high-volatility\n",
        "    df['volatility'] = (df['High'] - df['Low']) / df['Close']\n",
        "    df['target'] = np.where(df['volatility'] < 0.02, 2,\n",
        "                     np.where(df['volatility'] > 0.08, 1, 0))\n",
        "\n",
        "elif strategy == 6:  # Diversification\n",
        "    # Buy underexposed coins, Sell overexposed ones\n",
        "    avg_close = df['Close'].mean()\n",
        "    df['target'] = np.where(df['Close'] < avg_close * 0.8, 2,\n",
        "                     np.where(df['Close'] > avg_close * 1.2, 1, 0))\n",
        "\n",
        "elif strategy == 7:  # ICO/IDO\n",
        "    # Buy if future close is massively higher (2x), Sell if big loss\n",
        "    df['target'] = np.where(df['future_close'] > df['Close'] * 2.0, 2,\n",
        "                     np.where(df['future_close'] < df['Close'] * 0.8, 1, 0))\n",
        "\n",
        "elif strategy == 8:  # Arbitrage\n",
        "    # Buy if price much lower than avg, Sell if much higher\n",
        "    df['avg_price'] = df[['Open', 'High', 'Low', 'Close']].mean(axis=1)\n",
        "    df['target'] = np.where(df['Close'] < df['avg_price'] * 0.95, 2,\n",
        "                     np.where(df['Close'] > df['avg_price'] * 1.05, 1, 0))\n",
        "\n",
        "else:\n",
        "    raise ValueError(\"Unknown strategy.\")\n"
      ],
      "metadata": {
        "id": "Od4MXihIx95q"
      },
      "execution_count": 15,
      "outputs": []
    },
    {
      "cell_type": "code",
      "source": [
        "# df['target'] = -1 # Hold\n",
        "# df.loc[df['future_close'] > df['Close'] * (1 + 0.001), 'target'] = 1  # Buy\n",
        "# df.loc[df['future_close'] < df['Close'] * (1 - 0.001), 'target'] = 0  # Sell"
      ],
      "metadata": {
        "id": "B2WxvGDHMudK"
      },
      "execution_count": 16,
      "outputs": []
    },
    {
      "cell_type": "code",
      "source": [
        "df.dropna(inplace=True)"
      ],
      "metadata": {
        "id": "h9k6K8_4MyWC"
      },
      "execution_count": 17,
      "outputs": []
    },
    {
      "cell_type": "code",
      "source": [
        "df[['Close', 'future_close', 'target']]"
      ],
      "metadata": {
        "colab": {
          "base_uri": "https://localhost:8080/",
          "height": 455
        },
        "id": "ssq1jrndCHjD",
        "outputId": "aeca6a06-e094-4d38-ddd0-f3262d1f5fba"
      },
      "execution_count": 18,
      "outputs": [
        {
          "output_type": "execute_result",
          "data": {
            "text/plain": [
              "                Close  future_close  target\n",
              "Open time                                  \n",
              "2018-01-26   11089.00      11491.00       0\n",
              "2018-01-27   11491.00      11879.95       0\n",
              "2018-01-28   11879.95      11251.00       0\n",
              "2018-01-29   11251.00      10237.51       0\n",
              "2018-01-30   10237.51      10285.10       0\n",
              "...               ...           ...     ...\n",
              "2025-05-16  104234.77     102822.55       0\n",
              "2025-05-17  102822.55     103289.62       0\n",
              "2025-05-18  103289.62     105140.00       0\n",
              "2025-05-19  105140.00     106577.64       0\n",
              "2025-05-20  106577.64     106400.00       0\n",
              "\n",
              "[2672 rows x 3 columns]"
            ],
            "text/html": [
              "\n",
              "  <div id=\"df-1515dd5c-cc7e-472e-abf9-b477c819e10d\" class=\"colab-df-container\">\n",
              "    <div>\n",
              "<style scoped>\n",
              "    .dataframe tbody tr th:only-of-type {\n",
              "        vertical-align: middle;\n",
              "    }\n",
              "\n",
              "    .dataframe tbody tr th {\n",
              "        vertical-align: top;\n",
              "    }\n",
              "\n",
              "    .dataframe thead th {\n",
              "        text-align: right;\n",
              "    }\n",
              "</style>\n",
              "<table border=\"1\" class=\"dataframe\">\n",
              "  <thead>\n",
              "    <tr style=\"text-align: right;\">\n",
              "      <th></th>\n",
              "      <th>Close</th>\n",
              "      <th>future_close</th>\n",
              "      <th>target</th>\n",
              "    </tr>\n",
              "    <tr>\n",
              "      <th>Open time</th>\n",
              "      <th></th>\n",
              "      <th></th>\n",
              "      <th></th>\n",
              "    </tr>\n",
              "  </thead>\n",
              "  <tbody>\n",
              "    <tr>\n",
              "      <th>2018-01-26</th>\n",
              "      <td>11089.00</td>\n",
              "      <td>11491.00</td>\n",
              "      <td>0</td>\n",
              "    </tr>\n",
              "    <tr>\n",
              "      <th>2018-01-27</th>\n",
              "      <td>11491.00</td>\n",
              "      <td>11879.95</td>\n",
              "      <td>0</td>\n",
              "    </tr>\n",
              "    <tr>\n",
              "      <th>2018-01-28</th>\n",
              "      <td>11879.95</td>\n",
              "      <td>11251.00</td>\n",
              "      <td>0</td>\n",
              "    </tr>\n",
              "    <tr>\n",
              "      <th>2018-01-29</th>\n",
              "      <td>11251.00</td>\n",
              "      <td>10237.51</td>\n",
              "      <td>0</td>\n",
              "    </tr>\n",
              "    <tr>\n",
              "      <th>2018-01-30</th>\n",
              "      <td>10237.51</td>\n",
              "      <td>10285.10</td>\n",
              "      <td>0</td>\n",
              "    </tr>\n",
              "    <tr>\n",
              "      <th>...</th>\n",
              "      <td>...</td>\n",
              "      <td>...</td>\n",
              "      <td>...</td>\n",
              "    </tr>\n",
              "    <tr>\n",
              "      <th>2025-05-16</th>\n",
              "      <td>104234.77</td>\n",
              "      <td>102822.55</td>\n",
              "      <td>0</td>\n",
              "    </tr>\n",
              "    <tr>\n",
              "      <th>2025-05-17</th>\n",
              "      <td>102822.55</td>\n",
              "      <td>103289.62</td>\n",
              "      <td>0</td>\n",
              "    </tr>\n",
              "    <tr>\n",
              "      <th>2025-05-18</th>\n",
              "      <td>103289.62</td>\n",
              "      <td>105140.00</td>\n",
              "      <td>0</td>\n",
              "    </tr>\n",
              "    <tr>\n",
              "      <th>2025-05-19</th>\n",
              "      <td>105140.00</td>\n",
              "      <td>106577.64</td>\n",
              "      <td>0</td>\n",
              "    </tr>\n",
              "    <tr>\n",
              "      <th>2025-05-20</th>\n",
              "      <td>106577.64</td>\n",
              "      <td>106400.00</td>\n",
              "      <td>0</td>\n",
              "    </tr>\n",
              "  </tbody>\n",
              "</table>\n",
              "<p>2672 rows × 3 columns</p>\n",
              "</div>\n",
              "    <div class=\"colab-df-buttons\">\n",
              "\n",
              "  <div class=\"colab-df-container\">\n",
              "    <button class=\"colab-df-convert\" onclick=\"convertToInteractive('df-1515dd5c-cc7e-472e-abf9-b477c819e10d')\"\n",
              "            title=\"Convert this dataframe to an interactive table.\"\n",
              "            style=\"display:none;\">\n",
              "\n",
              "  <svg xmlns=\"http://www.w3.org/2000/svg\" height=\"24px\" viewBox=\"0 -960 960 960\">\n",
              "    <path d=\"M120-120v-720h720v720H120Zm60-500h600v-160H180v160Zm220 220h160v-160H400v160Zm0 220h160v-160H400v160ZM180-400h160v-160H180v160Zm440 0h160v-160H620v160ZM180-180h160v-160H180v160Zm440 0h160v-160H620v160Z\"/>\n",
              "  </svg>\n",
              "    </button>\n",
              "\n",
              "  <style>\n",
              "    .colab-df-container {\n",
              "      display:flex;\n",
              "      gap: 12px;\n",
              "    }\n",
              "\n",
              "    .colab-df-convert {\n",
              "      background-color: #E8F0FE;\n",
              "      border: none;\n",
              "      border-radius: 50%;\n",
              "      cursor: pointer;\n",
              "      display: none;\n",
              "      fill: #1967D2;\n",
              "      height: 32px;\n",
              "      padding: 0 0 0 0;\n",
              "      width: 32px;\n",
              "    }\n",
              "\n",
              "    .colab-df-convert:hover {\n",
              "      background-color: #E2EBFA;\n",
              "      box-shadow: 0px 1px 2px rgba(60, 64, 67, 0.3), 0px 1px 3px 1px rgba(60, 64, 67, 0.15);\n",
              "      fill: #174EA6;\n",
              "    }\n",
              "\n",
              "    .colab-df-buttons div {\n",
              "      margin-bottom: 4px;\n",
              "    }\n",
              "\n",
              "    [theme=dark] .colab-df-convert {\n",
              "      background-color: #3B4455;\n",
              "      fill: #D2E3FC;\n",
              "    }\n",
              "\n",
              "    [theme=dark] .colab-df-convert:hover {\n",
              "      background-color: #434B5C;\n",
              "      box-shadow: 0px 1px 3px 1px rgba(0, 0, 0, 0.15);\n",
              "      filter: drop-shadow(0px 1px 2px rgba(0, 0, 0, 0.3));\n",
              "      fill: #FFFFFF;\n",
              "    }\n",
              "  </style>\n",
              "\n",
              "    <script>\n",
              "      const buttonEl =\n",
              "        document.querySelector('#df-1515dd5c-cc7e-472e-abf9-b477c819e10d button.colab-df-convert');\n",
              "      buttonEl.style.display =\n",
              "        google.colab.kernel.accessAllowed ? 'block' : 'none';\n",
              "\n",
              "      async function convertToInteractive(key) {\n",
              "        const element = document.querySelector('#df-1515dd5c-cc7e-472e-abf9-b477c819e10d');\n",
              "        const dataTable =\n",
              "          await google.colab.kernel.invokeFunction('convertToInteractive',\n",
              "                                                    [key], {});\n",
              "        if (!dataTable) return;\n",
              "\n",
              "        const docLinkHtml = 'Like what you see? Visit the ' +\n",
              "          '<a target=\"_blank\" href=https://colab.research.google.com/notebooks/data_table.ipynb>data table notebook</a>'\n",
              "          + ' to learn more about interactive tables.';\n",
              "        element.innerHTML = '';\n",
              "        dataTable['output_type'] = 'display_data';\n",
              "        await google.colab.output.renderOutput(dataTable, element);\n",
              "        const docLink = document.createElement('div');\n",
              "        docLink.innerHTML = docLinkHtml;\n",
              "        element.appendChild(docLink);\n",
              "      }\n",
              "    </script>\n",
              "  </div>\n",
              "\n",
              "\n",
              "    <div id=\"df-94e9adf8-aa93-442d-9fb6-c6d93f7181ba\">\n",
              "      <button class=\"colab-df-quickchart\" onclick=\"quickchart('df-94e9adf8-aa93-442d-9fb6-c6d93f7181ba')\"\n",
              "                title=\"Suggest charts\"\n",
              "                style=\"display:none;\">\n",
              "\n",
              "<svg xmlns=\"http://www.w3.org/2000/svg\" height=\"24px\"viewBox=\"0 0 24 24\"\n",
              "     width=\"24px\">\n",
              "    <g>\n",
              "        <path d=\"M19 3H5c-1.1 0-2 .9-2 2v14c0 1.1.9 2 2 2h14c1.1 0 2-.9 2-2V5c0-1.1-.9-2-2-2zM9 17H7v-7h2v7zm4 0h-2V7h2v10zm4 0h-2v-4h2v4z\"/>\n",
              "    </g>\n",
              "</svg>\n",
              "      </button>\n",
              "\n",
              "<style>\n",
              "  .colab-df-quickchart {\n",
              "      --bg-color: #E8F0FE;\n",
              "      --fill-color: #1967D2;\n",
              "      --hover-bg-color: #E2EBFA;\n",
              "      --hover-fill-color: #174EA6;\n",
              "      --disabled-fill-color: #AAA;\n",
              "      --disabled-bg-color: #DDD;\n",
              "  }\n",
              "\n",
              "  [theme=dark] .colab-df-quickchart {\n",
              "      --bg-color: #3B4455;\n",
              "      --fill-color: #D2E3FC;\n",
              "      --hover-bg-color: #434B5C;\n",
              "      --hover-fill-color: #FFFFFF;\n",
              "      --disabled-bg-color: #3B4455;\n",
              "      --disabled-fill-color: #666;\n",
              "  }\n",
              "\n",
              "  .colab-df-quickchart {\n",
              "    background-color: var(--bg-color);\n",
              "    border: none;\n",
              "    border-radius: 50%;\n",
              "    cursor: pointer;\n",
              "    display: none;\n",
              "    fill: var(--fill-color);\n",
              "    height: 32px;\n",
              "    padding: 0;\n",
              "    width: 32px;\n",
              "  }\n",
              "\n",
              "  .colab-df-quickchart:hover {\n",
              "    background-color: var(--hover-bg-color);\n",
              "    box-shadow: 0 1px 2px rgba(60, 64, 67, 0.3), 0 1px 3px 1px rgba(60, 64, 67, 0.15);\n",
              "    fill: var(--button-hover-fill-color);\n",
              "  }\n",
              "\n",
              "  .colab-df-quickchart-complete:disabled,\n",
              "  .colab-df-quickchart-complete:disabled:hover {\n",
              "    background-color: var(--disabled-bg-color);\n",
              "    fill: var(--disabled-fill-color);\n",
              "    box-shadow: none;\n",
              "  }\n",
              "\n",
              "  .colab-df-spinner {\n",
              "    border: 2px solid var(--fill-color);\n",
              "    border-color: transparent;\n",
              "    border-bottom-color: var(--fill-color);\n",
              "    animation:\n",
              "      spin 1s steps(1) infinite;\n",
              "  }\n",
              "\n",
              "  @keyframes spin {\n",
              "    0% {\n",
              "      border-color: transparent;\n",
              "      border-bottom-color: var(--fill-color);\n",
              "      border-left-color: var(--fill-color);\n",
              "    }\n",
              "    20% {\n",
              "      border-color: transparent;\n",
              "      border-left-color: var(--fill-color);\n",
              "      border-top-color: var(--fill-color);\n",
              "    }\n",
              "    30% {\n",
              "      border-color: transparent;\n",
              "      border-left-color: var(--fill-color);\n",
              "      border-top-color: var(--fill-color);\n",
              "      border-right-color: var(--fill-color);\n",
              "    }\n",
              "    40% {\n",
              "      border-color: transparent;\n",
              "      border-right-color: var(--fill-color);\n",
              "      border-top-color: var(--fill-color);\n",
              "    }\n",
              "    60% {\n",
              "      border-color: transparent;\n",
              "      border-right-color: var(--fill-color);\n",
              "    }\n",
              "    80% {\n",
              "      border-color: transparent;\n",
              "      border-right-color: var(--fill-color);\n",
              "      border-bottom-color: var(--fill-color);\n",
              "    }\n",
              "    90% {\n",
              "      border-color: transparent;\n",
              "      border-bottom-color: var(--fill-color);\n",
              "    }\n",
              "  }\n",
              "</style>\n",
              "\n",
              "      <script>\n",
              "        async function quickchart(key) {\n",
              "          const quickchartButtonEl =\n",
              "            document.querySelector('#' + key + ' button');\n",
              "          quickchartButtonEl.disabled = true;  // To prevent multiple clicks.\n",
              "          quickchartButtonEl.classList.add('colab-df-spinner');\n",
              "          try {\n",
              "            const charts = await google.colab.kernel.invokeFunction(\n",
              "                'suggestCharts', [key], {});\n",
              "          } catch (error) {\n",
              "            console.error('Error during call to suggestCharts:', error);\n",
              "          }\n",
              "          quickchartButtonEl.classList.remove('colab-df-spinner');\n",
              "          quickchartButtonEl.classList.add('colab-df-quickchart-complete');\n",
              "        }\n",
              "        (() => {\n",
              "          let quickchartButtonEl =\n",
              "            document.querySelector('#df-94e9adf8-aa93-442d-9fb6-c6d93f7181ba button');\n",
              "          quickchartButtonEl.style.display =\n",
              "            google.colab.kernel.accessAllowed ? 'block' : 'none';\n",
              "        })();\n",
              "      </script>\n",
              "    </div>\n",
              "    </div>\n",
              "  </div>\n"
            ],
            "application/vnd.google.colaboratory.intrinsic+json": {
              "type": "dataframe",
              "summary": "{\n  \"name\": \"df[['Close', 'future_close', 'target']]\",\n  \"rows\": 2672,\n  \"fields\": [\n    {\n      \"column\": \"Open time\",\n      \"properties\": {\n        \"dtype\": \"date\",\n        \"min\": \"2018-01-26 00:00:00\",\n        \"max\": \"2025-05-20 00:00:00\",\n        \"num_unique_values\": 2672,\n        \"samples\": [\n          \"2023-11-16 00:00:00\",\n          \"2021-05-21 00:00:00\",\n          \"2022-01-26 00:00:00\"\n        ],\n        \"semantic_type\": \"\",\n        \"description\": \"\"\n      }\n    },\n    {\n      \"column\": \"Close\",\n      \"properties\": {\n        \"dtype\": \"number\",\n        \"std\": 26049.46299051695,\n        \"min\": 3211.72,\n        \"max\": 106577.64,\n        \"num_unique_values\": 2671,\n        \"samples\": [\n          36613.92,\n          37449.73,\n          37160.1\n        ],\n        \"semantic_type\": \"\",\n        \"description\": \"\"\n      }\n    },\n    {\n      \"column\": \"future_close\",\n      \"properties\": {\n        \"dtype\": \"number\",\n        \"std\": 26086.587585271856,\n        \"min\": 3211.72,\n        \"max\": 106577.64,\n        \"num_unique_values\": 2671,\n        \"samples\": [\n          36568.1,\n          34655.25,\n          37716.56\n        ],\n        \"semantic_type\": \"\",\n        \"description\": \"\"\n      }\n    },\n    {\n      \"column\": \"target\",\n      \"properties\": {\n        \"dtype\": \"number\",\n        \"std\": 0,\n        \"min\": 0,\n        \"max\": 2,\n        \"num_unique_values\": 3,\n        \"samples\": [\n          0,\n          1,\n          2\n        ],\n        \"semantic_type\": \"\",\n        \"description\": \"\"\n      }\n    }\n  ]\n}"
            }
          },
          "metadata": {},
          "execution_count": 18
        }
      ]
    },
    {
      "cell_type": "code",
      "source": [
        "train_size = int(len(df) * 0.8)\n",
        "train_df = df.iloc[:train_size]\n",
        "test_df = df.iloc[train_size:]"
      ],
      "metadata": {
        "id": "wc8jApIYM0jN"
      },
      "execution_count": 19,
      "outputs": []
    },
    {
      "cell_type": "code",
      "source": [
        "X_train = train_df.drop(['future_close', 'target', 'Close time'], axis=1)\n",
        "y_train = train_df['target']\n",
        "X_test = test_df.drop(['future_close', 'target', 'Close time'], axis=1)\n",
        "y_test = test_df['target']"
      ],
      "metadata": {
        "id": "oUmSlT5SM2wm"
      },
      "execution_count": 20,
      "outputs": []
    },
    {
      "cell_type": "code",
      "source": [
        "# We resample the dataset to force the data to learn and not default to the majority\n",
        "from imblearn.over_sampling import SMOTE\n",
        "\n",
        "#sm = SMOTE(random_state=42)\n",
        "#X_resampled, y_resampled = sm.fit_resample(X_train, y_train)"
      ],
      "metadata": {
        "id": "-GOypRtvXRgy"
      },
      "execution_count": 21,
      "outputs": []
    },
    {
      "cell_type": "code",
      "source": [
        "X_train = train_df.drop(['future_close', 'target', 'Close time'], axis=1)\n",
        "y_train = train_df['target']\n",
        "X_test = test_df.drop(['future_close', 'target', 'Close time'], axis=1)\n",
        "y_test = test_df['target']"
      ],
      "metadata": {
        "id": "TsxkyEkVQP-6"
      },
      "execution_count": 22,
      "outputs": []
    },
    {
      "cell_type": "code",
      "source": [
        "X_train.head(5)"
      ],
      "metadata": {
        "colab": {
          "base_uri": "https://localhost:8080/",
          "height": 426
        },
        "id": "DdoIbLhhUVEW",
        "outputId": "0768e56f-b49c-495e-ceae-1a779a21be21"
      },
      "execution_count": 23,
      "outputs": [
        {
          "output_type": "execute_result",
          "data": {
            "text/plain": [
              "                Open      High       Low     Close        Volume  \\\n",
              "Open time                                                          \n",
              "2018-01-26  11184.70  11643.00  10311.15  11089.00  33056.871960   \n",
              "2018-01-27  11089.00  11650.00  10842.69  11491.00  18860.768345   \n",
              "2018-01-28  11499.98  12244.00  11408.00  11879.95  16887.339524   \n",
              "2018-01-29  11879.95  11975.02  11139.55  11251.00  14170.377538   \n",
              "2018-01-30  11250.11  11308.42   9900.00  10237.51  25554.372946   \n",
              "\n",
              "            Quote asset volume  Number of trades  Taker buy base asset volume  \\\n",
              "Open time                                                                       \n",
              "2018-01-26        3.604825e+08            314720                 15330.789553   \n",
              "2018-01-27        2.126632e+08            207478                  9208.937963   \n",
              "2018-01-28        2.002116e+08            206247                  7342.786997   \n",
              "2018-01-29        1.621102e+08            169199                  6016.496871   \n",
              "2018-01-30        2.689783e+08            259212                 11388.096419   \n",
              "\n",
              "            Taker buy quote asset volume  Ignore  ...  Volume_lag_2  \\\n",
              "Open time                                         ...                 \n",
              "2018-01-26                  1.673290e+08       0  ...  27158.587762   \n",
              "2018-01-27                  1.039359e+08       0  ...  20839.954183   \n",
              "2018-01-28                  8.701101e+07       0  ...  33056.871960   \n",
              "2018-01-29                  6.881997e+07       0  ...  18860.768345   \n",
              "2018-01-30                  1.198643e+08       0  ...  16887.339524   \n",
              "\n",
              "            Volume_lag_3  Volume_lag_4  Volume_lag_5  Volume_rolling_mean_3  \\\n",
              "Open time                                                                     \n",
              "2018-01-26  37473.922552  43752.606791  41379.773426           27018.471302   \n",
              "2018-01-27  27158.587762  37473.922552  43752.606791           24252.531496   \n",
              "2018-01-28  20839.954183  27158.587762  37473.922552           22934.993276   \n",
              "2018-01-29  33056.871960  20839.954183  27158.587762           16639.495136   \n",
              "2018-01-30  18860.768345  33056.871960  20839.954183           18870.696669   \n",
              "\n",
              "            Volume_rolling_std_3        rsi        macd        ema_12  \\\n",
              "Open time                                                               \n",
              "2018-01-26           6109.664022  39.612390 -794.995978  11701.843088   \n",
              "2018-01-27           7688.732171  42.915669 -752.926779  11669.405690   \n",
              "2018-01-28           8821.163551  45.993842 -680.358867  11701.797122   \n",
              "2018-01-29           2354.997157  42.045600 -665.922938  11632.443719   \n",
              "2018-01-30           5945.512344  36.594241 -727.872077  11417.838531   \n",
              "\n",
              "                  ema_26  \n",
              "Open time                 \n",
              "2018-01-26  12496.839066  \n",
              "2018-01-27  12422.332469  \n",
              "2018-01-28  12382.155989  \n",
              "2018-01-29  12298.366657  \n",
              "2018-01-30  12145.710608  \n",
              "\n",
              "[5 rows x 41 columns]"
            ],
            "text/html": [
              "\n",
              "  <div id=\"df-24aae37e-6f3a-494e-b32c-098fb1511e09\" class=\"colab-df-container\">\n",
              "    <div>\n",
              "<style scoped>\n",
              "    .dataframe tbody tr th:only-of-type {\n",
              "        vertical-align: middle;\n",
              "    }\n",
              "\n",
              "    .dataframe tbody tr th {\n",
              "        vertical-align: top;\n",
              "    }\n",
              "\n",
              "    .dataframe thead th {\n",
              "        text-align: right;\n",
              "    }\n",
              "</style>\n",
              "<table border=\"1\" class=\"dataframe\">\n",
              "  <thead>\n",
              "    <tr style=\"text-align: right;\">\n",
              "      <th></th>\n",
              "      <th>Open</th>\n",
              "      <th>High</th>\n",
              "      <th>Low</th>\n",
              "      <th>Close</th>\n",
              "      <th>Volume</th>\n",
              "      <th>Quote asset volume</th>\n",
              "      <th>Number of trades</th>\n",
              "      <th>Taker buy base asset volume</th>\n",
              "      <th>Taker buy quote asset volume</th>\n",
              "      <th>Ignore</th>\n",
              "      <th>...</th>\n",
              "      <th>Volume_lag_2</th>\n",
              "      <th>Volume_lag_3</th>\n",
              "      <th>Volume_lag_4</th>\n",
              "      <th>Volume_lag_5</th>\n",
              "      <th>Volume_rolling_mean_3</th>\n",
              "      <th>Volume_rolling_std_3</th>\n",
              "      <th>rsi</th>\n",
              "      <th>macd</th>\n",
              "      <th>ema_12</th>\n",
              "      <th>ema_26</th>\n",
              "    </tr>\n",
              "    <tr>\n",
              "      <th>Open time</th>\n",
              "      <th></th>\n",
              "      <th></th>\n",
              "      <th></th>\n",
              "      <th></th>\n",
              "      <th></th>\n",
              "      <th></th>\n",
              "      <th></th>\n",
              "      <th></th>\n",
              "      <th></th>\n",
              "      <th></th>\n",
              "      <th></th>\n",
              "      <th></th>\n",
              "      <th></th>\n",
              "      <th></th>\n",
              "      <th></th>\n",
              "      <th></th>\n",
              "      <th></th>\n",
              "      <th></th>\n",
              "      <th></th>\n",
              "      <th></th>\n",
              "      <th></th>\n",
              "    </tr>\n",
              "  </thead>\n",
              "  <tbody>\n",
              "    <tr>\n",
              "      <th>2018-01-26</th>\n",
              "      <td>11184.70</td>\n",
              "      <td>11643.00</td>\n",
              "      <td>10311.15</td>\n",
              "      <td>11089.00</td>\n",
              "      <td>33056.871960</td>\n",
              "      <td>3.604825e+08</td>\n",
              "      <td>314720</td>\n",
              "      <td>15330.789553</td>\n",
              "      <td>1.673290e+08</td>\n",
              "      <td>0</td>\n",
              "      <td>...</td>\n",
              "      <td>27158.587762</td>\n",
              "      <td>37473.922552</td>\n",
              "      <td>43752.606791</td>\n",
              "      <td>41379.773426</td>\n",
              "      <td>27018.471302</td>\n",
              "      <td>6109.664022</td>\n",
              "      <td>39.612390</td>\n",
              "      <td>-794.995978</td>\n",
              "      <td>11701.843088</td>\n",
              "      <td>12496.839066</td>\n",
              "    </tr>\n",
              "    <tr>\n",
              "      <th>2018-01-27</th>\n",
              "      <td>11089.00</td>\n",
              "      <td>11650.00</td>\n",
              "      <td>10842.69</td>\n",
              "      <td>11491.00</td>\n",
              "      <td>18860.768345</td>\n",
              "      <td>2.126632e+08</td>\n",
              "      <td>207478</td>\n",
              "      <td>9208.937963</td>\n",
              "      <td>1.039359e+08</td>\n",
              "      <td>0</td>\n",
              "      <td>...</td>\n",
              "      <td>20839.954183</td>\n",
              "      <td>27158.587762</td>\n",
              "      <td>37473.922552</td>\n",
              "      <td>43752.606791</td>\n",
              "      <td>24252.531496</td>\n",
              "      <td>7688.732171</td>\n",
              "      <td>42.915669</td>\n",
              "      <td>-752.926779</td>\n",
              "      <td>11669.405690</td>\n",
              "      <td>12422.332469</td>\n",
              "    </tr>\n",
              "    <tr>\n",
              "      <th>2018-01-28</th>\n",
              "      <td>11499.98</td>\n",
              "      <td>12244.00</td>\n",
              "      <td>11408.00</td>\n",
              "      <td>11879.95</td>\n",
              "      <td>16887.339524</td>\n",
              "      <td>2.002116e+08</td>\n",
              "      <td>206247</td>\n",
              "      <td>7342.786997</td>\n",
              "      <td>8.701101e+07</td>\n",
              "      <td>0</td>\n",
              "      <td>...</td>\n",
              "      <td>33056.871960</td>\n",
              "      <td>20839.954183</td>\n",
              "      <td>27158.587762</td>\n",
              "      <td>37473.922552</td>\n",
              "      <td>22934.993276</td>\n",
              "      <td>8821.163551</td>\n",
              "      <td>45.993842</td>\n",
              "      <td>-680.358867</td>\n",
              "      <td>11701.797122</td>\n",
              "      <td>12382.155989</td>\n",
              "    </tr>\n",
              "    <tr>\n",
              "      <th>2018-01-29</th>\n",
              "      <td>11879.95</td>\n",
              "      <td>11975.02</td>\n",
              "      <td>11139.55</td>\n",
              "      <td>11251.00</td>\n",
              "      <td>14170.377538</td>\n",
              "      <td>1.621102e+08</td>\n",
              "      <td>169199</td>\n",
              "      <td>6016.496871</td>\n",
              "      <td>6.881997e+07</td>\n",
              "      <td>0</td>\n",
              "      <td>...</td>\n",
              "      <td>18860.768345</td>\n",
              "      <td>33056.871960</td>\n",
              "      <td>20839.954183</td>\n",
              "      <td>27158.587762</td>\n",
              "      <td>16639.495136</td>\n",
              "      <td>2354.997157</td>\n",
              "      <td>42.045600</td>\n",
              "      <td>-665.922938</td>\n",
              "      <td>11632.443719</td>\n",
              "      <td>12298.366657</td>\n",
              "    </tr>\n",
              "    <tr>\n",
              "      <th>2018-01-30</th>\n",
              "      <td>11250.11</td>\n",
              "      <td>11308.42</td>\n",
              "      <td>9900.00</td>\n",
              "      <td>10237.51</td>\n",
              "      <td>25554.372946</td>\n",
              "      <td>2.689783e+08</td>\n",
              "      <td>259212</td>\n",
              "      <td>11388.096419</td>\n",
              "      <td>1.198643e+08</td>\n",
              "      <td>0</td>\n",
              "      <td>...</td>\n",
              "      <td>16887.339524</td>\n",
              "      <td>18860.768345</td>\n",
              "      <td>33056.871960</td>\n",
              "      <td>20839.954183</td>\n",
              "      <td>18870.696669</td>\n",
              "      <td>5945.512344</td>\n",
              "      <td>36.594241</td>\n",
              "      <td>-727.872077</td>\n",
              "      <td>11417.838531</td>\n",
              "      <td>12145.710608</td>\n",
              "    </tr>\n",
              "  </tbody>\n",
              "</table>\n",
              "<p>5 rows × 41 columns</p>\n",
              "</div>\n",
              "    <div class=\"colab-df-buttons\">\n",
              "\n",
              "  <div class=\"colab-df-container\">\n",
              "    <button class=\"colab-df-convert\" onclick=\"convertToInteractive('df-24aae37e-6f3a-494e-b32c-098fb1511e09')\"\n",
              "            title=\"Convert this dataframe to an interactive table.\"\n",
              "            style=\"display:none;\">\n",
              "\n",
              "  <svg xmlns=\"http://www.w3.org/2000/svg\" height=\"24px\" viewBox=\"0 -960 960 960\">\n",
              "    <path d=\"M120-120v-720h720v720H120Zm60-500h600v-160H180v160Zm220 220h160v-160H400v160Zm0 220h160v-160H400v160ZM180-400h160v-160H180v160Zm440 0h160v-160H620v160ZM180-180h160v-160H180v160Zm440 0h160v-160H620v160Z\"/>\n",
              "  </svg>\n",
              "    </button>\n",
              "\n",
              "  <style>\n",
              "    .colab-df-container {\n",
              "      display:flex;\n",
              "      gap: 12px;\n",
              "    }\n",
              "\n",
              "    .colab-df-convert {\n",
              "      background-color: #E8F0FE;\n",
              "      border: none;\n",
              "      border-radius: 50%;\n",
              "      cursor: pointer;\n",
              "      display: none;\n",
              "      fill: #1967D2;\n",
              "      height: 32px;\n",
              "      padding: 0 0 0 0;\n",
              "      width: 32px;\n",
              "    }\n",
              "\n",
              "    .colab-df-convert:hover {\n",
              "      background-color: #E2EBFA;\n",
              "      box-shadow: 0px 1px 2px rgba(60, 64, 67, 0.3), 0px 1px 3px 1px rgba(60, 64, 67, 0.15);\n",
              "      fill: #174EA6;\n",
              "    }\n",
              "\n",
              "    .colab-df-buttons div {\n",
              "      margin-bottom: 4px;\n",
              "    }\n",
              "\n",
              "    [theme=dark] .colab-df-convert {\n",
              "      background-color: #3B4455;\n",
              "      fill: #D2E3FC;\n",
              "    }\n",
              "\n",
              "    [theme=dark] .colab-df-convert:hover {\n",
              "      background-color: #434B5C;\n",
              "      box-shadow: 0px 1px 3px 1px rgba(0, 0, 0, 0.15);\n",
              "      filter: drop-shadow(0px 1px 2px rgba(0, 0, 0, 0.3));\n",
              "      fill: #FFFFFF;\n",
              "    }\n",
              "  </style>\n",
              "\n",
              "    <script>\n",
              "      const buttonEl =\n",
              "        document.querySelector('#df-24aae37e-6f3a-494e-b32c-098fb1511e09 button.colab-df-convert');\n",
              "      buttonEl.style.display =\n",
              "        google.colab.kernel.accessAllowed ? 'block' : 'none';\n",
              "\n",
              "      async function convertToInteractive(key) {\n",
              "        const element = document.querySelector('#df-24aae37e-6f3a-494e-b32c-098fb1511e09');\n",
              "        const dataTable =\n",
              "          await google.colab.kernel.invokeFunction('convertToInteractive',\n",
              "                                                    [key], {});\n",
              "        if (!dataTable) return;\n",
              "\n",
              "        const docLinkHtml = 'Like what you see? Visit the ' +\n",
              "          '<a target=\"_blank\" href=https://colab.research.google.com/notebooks/data_table.ipynb>data table notebook</a>'\n",
              "          + ' to learn more about interactive tables.';\n",
              "        element.innerHTML = '';\n",
              "        dataTable['output_type'] = 'display_data';\n",
              "        await google.colab.output.renderOutput(dataTable, element);\n",
              "        const docLink = document.createElement('div');\n",
              "        docLink.innerHTML = docLinkHtml;\n",
              "        element.appendChild(docLink);\n",
              "      }\n",
              "    </script>\n",
              "  </div>\n",
              "\n",
              "\n",
              "    <div id=\"df-bd4469de-b82e-4b77-8d42-9541dc74e8a3\">\n",
              "      <button class=\"colab-df-quickchart\" onclick=\"quickchart('df-bd4469de-b82e-4b77-8d42-9541dc74e8a3')\"\n",
              "                title=\"Suggest charts\"\n",
              "                style=\"display:none;\">\n",
              "\n",
              "<svg xmlns=\"http://www.w3.org/2000/svg\" height=\"24px\"viewBox=\"0 0 24 24\"\n",
              "     width=\"24px\">\n",
              "    <g>\n",
              "        <path d=\"M19 3H5c-1.1 0-2 .9-2 2v14c0 1.1.9 2 2 2h14c1.1 0 2-.9 2-2V5c0-1.1-.9-2-2-2zM9 17H7v-7h2v7zm4 0h-2V7h2v10zm4 0h-2v-4h2v4z\"/>\n",
              "    </g>\n",
              "</svg>\n",
              "      </button>\n",
              "\n",
              "<style>\n",
              "  .colab-df-quickchart {\n",
              "      --bg-color: #E8F0FE;\n",
              "      --fill-color: #1967D2;\n",
              "      --hover-bg-color: #E2EBFA;\n",
              "      --hover-fill-color: #174EA6;\n",
              "      --disabled-fill-color: #AAA;\n",
              "      --disabled-bg-color: #DDD;\n",
              "  }\n",
              "\n",
              "  [theme=dark] .colab-df-quickchart {\n",
              "      --bg-color: #3B4455;\n",
              "      --fill-color: #D2E3FC;\n",
              "      --hover-bg-color: #434B5C;\n",
              "      --hover-fill-color: #FFFFFF;\n",
              "      --disabled-bg-color: #3B4455;\n",
              "      --disabled-fill-color: #666;\n",
              "  }\n",
              "\n",
              "  .colab-df-quickchart {\n",
              "    background-color: var(--bg-color);\n",
              "    border: none;\n",
              "    border-radius: 50%;\n",
              "    cursor: pointer;\n",
              "    display: none;\n",
              "    fill: var(--fill-color);\n",
              "    height: 32px;\n",
              "    padding: 0;\n",
              "    width: 32px;\n",
              "  }\n",
              "\n",
              "  .colab-df-quickchart:hover {\n",
              "    background-color: var(--hover-bg-color);\n",
              "    box-shadow: 0 1px 2px rgba(60, 64, 67, 0.3), 0 1px 3px 1px rgba(60, 64, 67, 0.15);\n",
              "    fill: var(--button-hover-fill-color);\n",
              "  }\n",
              "\n",
              "  .colab-df-quickchart-complete:disabled,\n",
              "  .colab-df-quickchart-complete:disabled:hover {\n",
              "    background-color: var(--disabled-bg-color);\n",
              "    fill: var(--disabled-fill-color);\n",
              "    box-shadow: none;\n",
              "  }\n",
              "\n",
              "  .colab-df-spinner {\n",
              "    border: 2px solid var(--fill-color);\n",
              "    border-color: transparent;\n",
              "    border-bottom-color: var(--fill-color);\n",
              "    animation:\n",
              "      spin 1s steps(1) infinite;\n",
              "  }\n",
              "\n",
              "  @keyframes spin {\n",
              "    0% {\n",
              "      border-color: transparent;\n",
              "      border-bottom-color: var(--fill-color);\n",
              "      border-left-color: var(--fill-color);\n",
              "    }\n",
              "    20% {\n",
              "      border-color: transparent;\n",
              "      border-left-color: var(--fill-color);\n",
              "      border-top-color: var(--fill-color);\n",
              "    }\n",
              "    30% {\n",
              "      border-color: transparent;\n",
              "      border-left-color: var(--fill-color);\n",
              "      border-top-color: var(--fill-color);\n",
              "      border-right-color: var(--fill-color);\n",
              "    }\n",
              "    40% {\n",
              "      border-color: transparent;\n",
              "      border-right-color: var(--fill-color);\n",
              "      border-top-color: var(--fill-color);\n",
              "    }\n",
              "    60% {\n",
              "      border-color: transparent;\n",
              "      border-right-color: var(--fill-color);\n",
              "    }\n",
              "    80% {\n",
              "      border-color: transparent;\n",
              "      border-right-color: var(--fill-color);\n",
              "      border-bottom-color: var(--fill-color);\n",
              "    }\n",
              "    90% {\n",
              "      border-color: transparent;\n",
              "      border-bottom-color: var(--fill-color);\n",
              "    }\n",
              "  }\n",
              "</style>\n",
              "\n",
              "      <script>\n",
              "        async function quickchart(key) {\n",
              "          const quickchartButtonEl =\n",
              "            document.querySelector('#' + key + ' button');\n",
              "          quickchartButtonEl.disabled = true;  // To prevent multiple clicks.\n",
              "          quickchartButtonEl.classList.add('colab-df-spinner');\n",
              "          try {\n",
              "            const charts = await google.colab.kernel.invokeFunction(\n",
              "                'suggestCharts', [key], {});\n",
              "          } catch (error) {\n",
              "            console.error('Error during call to suggestCharts:', error);\n",
              "          }\n",
              "          quickchartButtonEl.classList.remove('colab-df-spinner');\n",
              "          quickchartButtonEl.classList.add('colab-df-quickchart-complete');\n",
              "        }\n",
              "        (() => {\n",
              "          let quickchartButtonEl =\n",
              "            document.querySelector('#df-bd4469de-b82e-4b77-8d42-9541dc74e8a3 button');\n",
              "          quickchartButtonEl.style.display =\n",
              "            google.colab.kernel.accessAllowed ? 'block' : 'none';\n",
              "        })();\n",
              "      </script>\n",
              "    </div>\n",
              "    </div>\n",
              "  </div>\n"
            ],
            "application/vnd.google.colaboratory.intrinsic+json": {
              "type": "dataframe",
              "variable_name": "X_train"
            }
          },
          "metadata": {},
          "execution_count": 23
        }
      ]
    },
    {
      "cell_type": "code",
      "source": [
        "import xgboost as xgb"
      ],
      "metadata": {
        "id": "KhoZyXDjNCHO"
      },
      "execution_count": 24,
      "outputs": []
    },
    {
      "cell_type": "code",
      "source": [
        "import numpy as np"
      ],
      "metadata": {
        "id": "WlhJSFu-NxXX"
      },
      "execution_count": 25,
      "outputs": []
    },
    {
      "cell_type": "code",
      "source": [
        "from sklearn.model_selection import GridSearchCV\n",
        "import xgboost as xgb\n",
        "\n",
        "xgb_model = xgb.XGBClassifier(\n",
        "    objective='multi:softmax',\n",
        "    num_class=3,\n",
        "    eval_metric='mlogloss',\n",
        "    use_label_encoder=False,\n",
        "    verbosity=0\n",
        ")\n",
        "\n",
        "param_grid = {\n",
        "    'max_depth': [3, 5, 7, 9],\n",
        "    'learning_rate': [0.001, 0.1, 0.2],\n",
        "    'n_estimators': [100, 200, 300],\n",
        "    'subsample': [0.8, 1.0],\n",
        "    'colsample_bytree': [0.8, 1.0]\n",
        "}\n",
        "\n",
        "grid_search = GridSearchCV(\n",
        "    estimator=xgb_model,\n",
        "    param_grid=param_grid,\n",
        "    scoring='f1_weighted',\n",
        "    cv=3,\n",
        "    verbose=1,\n",
        "    n_jobs=-1\n",
        ")\n",
        "\n",
        "grid_search.fit(X_train, y_train)\n",
        "\n",
        "best_model = grid_search.best_estimator_\n",
        "print(\"Best parameters:\", grid_search.best_params_)\n"
      ],
      "metadata": {
        "colab": {
          "base_uri": "https://localhost:8080/"
        },
        "id": "Z0XJ5naMSNrJ",
        "outputId": "ef1148cc-b763-47c3-a09a-f9c9768c2355"
      },
      "execution_count": 26,
      "outputs": [
        {
          "output_type": "stream",
          "name": "stdout",
          "text": [
            "Fitting 3 folds for each of 144 candidates, totalling 432 fits\n",
            "Best parameters: {'colsample_bytree': 1.0, 'learning_rate': 0.1, 'max_depth': 5, 'n_estimators': 100, 'subsample': 0.8}\n"
          ]
        }
      ]
    },
    {
      "cell_type": "code",
      "source": [
        "# y_pred = best_model.predict(X_test)"
      ],
      "metadata": {
        "id": "3NJ2LRlBM8fB"
      },
      "execution_count": 27,
      "outputs": []
    },
    {
      "cell_type": "code",
      "source": [
        "best_model.fit(X_train, y_train)\n",
        "y_pred = best_model.predict(X_test)"
      ],
      "metadata": {
        "id": "SLlQnqZeXbSR"
      },
      "execution_count": 28,
      "outputs": []
    },
    {
      "cell_type": "code",
      "source": [
        "from sklearn.metrics import classification_report"
      ],
      "metadata": {
        "id": "Mq6Y-MgFBDTr"
      },
      "execution_count": 29,
      "outputs": []
    },
    {
      "cell_type": "code",
      "source": [
        "print(\"Classification Report:\\n\", classification_report(y_test, y_pred))"
      ],
      "metadata": {
        "colab": {
          "base_uri": "https://localhost:8080/"
        },
        "id": "PlRdu6bjM_wt",
        "outputId": "f0deb205-7d4b-4574-cfb9-7411ed73de1e"
      },
      "execution_count": 30,
      "outputs": [
        {
          "output_type": "stream",
          "name": "stdout",
          "text": [
            "Classification Report:\n",
            "               precision    recall  f1-score   support\n",
            "\n",
            "           0       0.99      1.00      1.00       532\n",
            "           2       0.00      0.00      0.00         3\n",
            "\n",
            "    accuracy                           0.99       535\n",
            "   macro avg       0.50      0.50      0.50       535\n",
            "weighted avg       0.99      0.99      0.99       535\n",
            "\n"
          ]
        },
        {
          "output_type": "stream",
          "name": "stderr",
          "text": [
            "/usr/local/lib/python3.11/dist-packages/sklearn/metrics/_classification.py:1565: UndefinedMetricWarning: Precision is ill-defined and being set to 0.0 in labels with no predicted samples. Use `zero_division` parameter to control this behavior.\n",
            "  _warn_prf(average, modifier, f\"{metric.capitalize()} is\", len(result))\n",
            "/usr/local/lib/python3.11/dist-packages/sklearn/metrics/_classification.py:1565: UndefinedMetricWarning: Precision is ill-defined and being set to 0.0 in labels with no predicted samples. Use `zero_division` parameter to control this behavior.\n",
            "  _warn_prf(average, modifier, f\"{metric.capitalize()} is\", len(result))\n",
            "/usr/local/lib/python3.11/dist-packages/sklearn/metrics/_classification.py:1565: UndefinedMetricWarning: Precision is ill-defined and being set to 0.0 in labels with no predicted samples. Use `zero_division` parameter to control this behavior.\n",
            "  _warn_prf(average, modifier, f\"{metric.capitalize()} is\", len(result))\n"
          ]
        }
      ]
    },
    {
      "cell_type": "code",
      "source": [
        "print(\"Train target distribution:\\n\", y_train.value_counts(normalize=True))\n",
        "print(\"Test target distribution:\\n\", y_test.value_counts(normalize=True))"
      ],
      "metadata": {
        "colab": {
          "base_uri": "https://localhost:8080/"
        },
        "id": "yEam4pkcQYJH",
        "outputId": "3fce2841-a84b-4c77-defc-3456ec7953ab"
      },
      "execution_count": 31,
      "outputs": [
        {
          "output_type": "stream",
          "name": "stdout",
          "text": [
            "Train target distribution:\n",
            " target\n",
            "0    0.974731\n",
            "2    0.014038\n",
            "1    0.011231\n",
            "Name: proportion, dtype: float64\n",
            "Test target distribution:\n",
            " target\n",
            "0    0.994393\n",
            "2    0.005607\n",
            "Name: proportion, dtype: float64\n"
          ]
        }
      ]
    },
    {
      "cell_type": "code",
      "source": [
        "unique, counts = np.unique(y_train, return_counts=True)\n",
        "print(dict(zip(unique, counts)))"
      ],
      "metadata": {
        "colab": {
          "base_uri": "https://localhost:8080/"
        },
        "id": "wUrK77NiXIY4",
        "outputId": "2632f727-7e39-48cb-ce5e-11065dbd711d"
      },
      "execution_count": 32,
      "outputs": [
        {
          "output_type": "stream",
          "name": "stdout",
          "text": [
            "{np.int64(0): np.int64(2083), np.int64(1): np.int64(24), np.int64(2): np.int64(30)}\n"
          ]
        }
      ]
    },
    {
      "cell_type": "code",
      "source": [
        "# Базирано на трудот [Madan et al.]"
      ],
      "metadata": {
        "id": "1cjupy6PWZ4U"
      },
      "execution_count": 33,
      "outputs": []
    },
    {
      "cell_type": "code",
      "source": [
        "# Momentum, Bollinger Bands, ADX\n",
        "# Додавање дополнителни индикатори\n",
        "df['momentum'] = ta.momentum.ROCIndicator(df['Close']).roc()\n",
        "bb = ta.volatility.BollingerBands(df['Close'])\n",
        "df['bb_high'] = bb.bollinger_hband()\n",
        "df['bb_low'] = bb.bollinger_lband()\n",
        "df['adx'] = ta.trend.ADXIndicator(df['High'], df['Low'], df['Close']).adx()\n",
        "\n",
        "# RSI, MACD, EMA (ги имаш веќе)\n",
        "df['rsi'] = ta.momentum.RSIIndicator(df['Close']).rsi()\n",
        "df['macd'] = ta.trend.MACD(df['Close']).macd()\n",
        "df['ema_12'] = ta.trend.EMAIndicator(df['Close'], window=12).ema_indicator()\n",
        "df['ema_26'] = ta.trend.EMAIndicator(df['Close'], window=26).ema_indicator()\n",
        "\n",
        "# Target\n",
        "df['future_close'] = df['Close'].shift(-future_shift)\n",
        "df['target'] = np.where(df['future_close'] > df['Close'] * 1.01, 2,\n",
        "                        np.where(df['future_close'] < df['Close'] * 0.95, 1, 0))"
      ],
      "metadata": {
        "id": "MY4qcS6dzY_u"
      },
      "execution_count": 34,
      "outputs": []
    },
    {
      "cell_type": "code",
      "source": [
        "#Генерирање на текстуални промптови за LLM класификација\n",
        "def generate_prompt(row):\n",
        "    return (\n",
        "        f\"On {row.name.date()}, Bitcoin closed at {row['Close']:.2f}, \"\n",
        "        f\"high: {row['High']:.2f}, low: {row['Low']:.2f}, volume: {row['Volume']:.2f}. \"\n",
        "        f\"RSI: {row['rsi']:.2f}, MACD: {row['macd']:.2f}, Momentum: {row['momentum']:.2f}, \"\n",
        "        f\"EMA12: {row['ema_12']:.2f}, EMA26: {row['ema_26']:.2f}, ADX: {row['adx']:.2f}. \"\n",
        "        f\"Classify the next day's movement as: increase, decrease, or neutral.\"\n",
        "    )\n",
        "\n",
        "#последни редици за пример\n",
        "sample_df = df.dropna().tail(5)\n",
        "sample_prompts = sample_df.apply(generate_prompt, axis=1)\n",
        "\n",
        "for prompt in sample_prompts:\n",
        "    print(\"\\n=== Prompt ===\\n\", prompt)"
      ],
      "metadata": {
        "colab": {
          "base_uri": "https://localhost:8080/"
        },
        "id": "ak-iwtKvzcnq",
        "outputId": "d6e7385c-8ee9-4278-b77f-007db934682b"
      },
      "execution_count": 35,
      "outputs": [
        {
          "output_type": "stream",
          "name": "stdout",
          "text": [
            "\n",
            "=== Prompt ===\n",
            " On 2025-05-15, Bitcoin closed at 103059.60, high: 103866.51, low: 102968.16, volume: 866.47. RSI: 68.44, MACD: 3910.49, Momentum: 6.83, EMA12: 100725.03, EMA26: 96814.54, ADX: 31.88. Classify the next day's movement as: increase, decrease, or neutral.\n",
            "\n",
            "=== Prompt ===\n",
            " On 2025-05-16, Bitcoin closed at 104234.77, high: 104279.07, low: 103467.91, volume: 1800.88. RSI: 70.42, MACD: 3900.81, Momentum: 8.39, EMA12: 101264.99, EMA26: 97364.18, ADX: 32.44. Classify the next day's movement as: increase, decrease, or neutral.\n",
            "\n",
            "=== Prompt ===\n",
            " On 2025-05-17, Bitcoin closed at 102822.55, high: 103539.69, low: 102612.50, volume: 1636.40. RSI: 65.13, MACD: 3736.11, Momentum: 9.65, EMA12: 101504.62, EMA26: 97768.51, ADX: 32.48. Classify the next day's movement as: increase, decrease, or neutral.\n",
            "\n",
            "=== Prompt ===\n",
            " On 2025-05-18, Bitcoin closed at 103289.62, high: 103409.98, low: 103105.09, volume: 516.83. RSI: 66.04, MACD: 3601.75, Momentum: 9.49, EMA12: 101779.23, EMA26: 98177.48, ADX: 32.51. Classify the next day's movement as: increase, decrease, or neutral.\n",
            "\n",
            "=== Prompt ===\n",
            " On 2025-05-19, Bitcoin closed at 105140.00, high: 107108.62, low: 104742.53, volume: 3542.14. RSI: 69.44, MACD: 3603.05, Momentum: 8.17, EMA12: 102296.27, EMA26: 98693.22, ADX: 33.48. Classify the next day's movement as: increase, decrease, or neutral.\n"
          ]
        }
      ]
    },
    {
      "cell_type": "code",
      "source": [
        "pip install --upgrade openai"
      ],
      "metadata": {
        "colab": {
          "base_uri": "https://localhost:8080/"
        },
        "id": "eUMNSWaK5eE0",
        "outputId": "6e0382fb-1d44-4c50-8949-4dc6ef52241a"
      },
      "execution_count": 36,
      "outputs": [
        {
          "output_type": "stream",
          "name": "stdout",
          "text": [
            "Requirement already satisfied: openai in /usr/local/lib/python3.11/dist-packages (1.78.1)\n",
            "Collecting openai\n",
            "  Downloading openai-1.79.0-py3-none-any.whl.metadata (25 kB)\n",
            "Requirement already satisfied: anyio<5,>=3.5.0 in /usr/local/lib/python3.11/dist-packages (from openai) (4.9.0)\n",
            "Requirement already satisfied: distro<2,>=1.7.0 in /usr/local/lib/python3.11/dist-packages (from openai) (1.9.0)\n",
            "Requirement already satisfied: httpx<1,>=0.23.0 in /usr/local/lib/python3.11/dist-packages (from openai) (0.28.1)\n",
            "Requirement already satisfied: jiter<1,>=0.4.0 in /usr/local/lib/python3.11/dist-packages (from openai) (0.9.0)\n",
            "Requirement already satisfied: pydantic<3,>=1.9.0 in /usr/local/lib/python3.11/dist-packages (from openai) (2.11.4)\n",
            "Requirement already satisfied: sniffio in /usr/local/lib/python3.11/dist-packages (from openai) (1.3.1)\n",
            "Requirement already satisfied: tqdm>4 in /usr/local/lib/python3.11/dist-packages (from openai) (4.67.1)\n",
            "Requirement already satisfied: typing-extensions<5,>=4.11 in /usr/local/lib/python3.11/dist-packages (from openai) (4.13.2)\n",
            "Requirement already satisfied: idna>=2.8 in /usr/local/lib/python3.11/dist-packages (from anyio<5,>=3.5.0->openai) (3.10)\n",
            "Requirement already satisfied: certifi in /usr/local/lib/python3.11/dist-packages (from httpx<1,>=0.23.0->openai) (2025.4.26)\n",
            "Requirement already satisfied: httpcore==1.* in /usr/local/lib/python3.11/dist-packages (from httpx<1,>=0.23.0->openai) (1.0.9)\n",
            "Requirement already satisfied: h11>=0.16 in /usr/local/lib/python3.11/dist-packages (from httpcore==1.*->httpx<1,>=0.23.0->openai) (0.16.0)\n",
            "Requirement already satisfied: annotated-types>=0.6.0 in /usr/local/lib/python3.11/dist-packages (from pydantic<3,>=1.9.0->openai) (0.7.0)\n",
            "Requirement already satisfied: pydantic-core==2.33.2 in /usr/local/lib/python3.11/dist-packages (from pydantic<3,>=1.9.0->openai) (2.33.2)\n",
            "Requirement already satisfied: typing-inspection>=0.4.0 in /usr/local/lib/python3.11/dist-packages (from pydantic<3,>=1.9.0->openai) (0.4.0)\n",
            "Downloading openai-1.79.0-py3-none-any.whl (683 kB)\n",
            "\u001b[2K   \u001b[90m━━━━━━━━━━━━━━━━━━━━━━━━━━━━━━━━━━━━━━━━\u001b[0m \u001b[32m683.3/683.3 kB\u001b[0m \u001b[31m8.2 MB/s\u001b[0m eta \u001b[36m0:00:00\u001b[0m\n",
            "\u001b[?25hInstalling collected packages: openai\n",
            "  Attempting uninstall: openai\n",
            "    Found existing installation: openai 1.78.1\n",
            "    Uninstalling openai-1.78.1:\n",
            "      Successfully uninstalled openai-1.78.1\n",
            "Successfully installed openai-1.79.0\n"
          ]
        }
      ]
    }
  ]
}